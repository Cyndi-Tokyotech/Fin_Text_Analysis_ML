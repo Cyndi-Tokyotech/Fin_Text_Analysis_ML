{
 "cells": [
  {
   "cell_type": "markdown",
   "metadata": {},
   "source": [
    "1. Setting the Path to virtual environment"
   ]
  },
  {
   "cell_type": "code",
   "execution_count": 2,
   "metadata": {},
   "outputs": [],
   "source": [
    "import sys\n",
    "sys.path.append('/opt/anaconda3/envs/pytorch/lib/python3.6')\n",
    "sys.path.append('/opt/anaconda3/envs/pytorch/lib/python3.6/site-packages')\n",
    "sys.path.append('/opt/anaconda3/envs/pytorch/lib/python3.6/site-packages/appv1')"
   ]
  },
  {
   "cell_type": "code",
   "execution_count": 3,
   "metadata": {},
   "outputs": [],
   "source": [
    "import pandas as pd\n",
    "from pathlib import Path\n",
    "import json"
   ]
  },
  {
   "cell_type": "markdown",
   "metadata": {},
   "source": [
    "2. Download the dataset from\n",
    "https://github.com/chakki-works/chABSA-dataset"
   ]
  },
  {
   "cell_type": "code",
   "execution_count": 16,
   "metadata": {},
   "outputs": [],
   "source": [
    "import json\n",
    "import pandas as pd\n",
    "\n",
    "\n",
    "companies = []\n",
    "sentences = []\n",
    "entities = []\n",
    "\n",
    "# Read the json file\n",
    "for f in data_folder.glob(\"e*_ann.json\"):\n",
    "    with f.open(encoding=\"utf-8\") as j:\n",
    "        d = json.load(j)\n",
    "        \n",
    "        # company infos\n",
    "        company_info = d[\"header\"]\n",
    "        companies.append(company_info)\n",
    "        \n",
    "        # sentences\n",
    "        company_code = company_info[\"security_code\"]\n",
    "        for s in d[\"sentences\"]:\n",
    "            line = {\n",
    "                \"company\": company_code,\n",
    "                \"sentence\": s[\"sentence\"],\n",
    "                \"entities\": len(s[\"opinions\"])\n",
    "            }\n",
    "            sentences.append(line)\n",
    "\n",
    "            # entities\n",
    "            for o in s[\"opinions\"]:\n",
    "                entities.append(o)\n",
    "\n",
    "\n",
    "companies = pd.DataFrame(companies)\n",
    "sentences = pd.DataFrame(sentences)\n",
    "entities = pd.DataFrame(entities)"
   ]
  },
  {
   "cell_type": "markdown",
   "metadata": {},
   "source": [
    "# e00008.json\n",
    "{\n",
    "  \"header\": {\n",
    "    \"document_id\": \"E00008\",\n",
    "    \"document_name\": \"ホクト株式会社\",\n",
    "    \"doc_text\": \"有価証券報告書\",\n",
    "    \"edi_id\": \"E00008\",\n",
    "    \"security_code\": \"13790\",\n",
    "    \"category33\": \"水産・農林業\",\n",
    "    \"category17\": \"食品\",\n",
    "    \"scale\": \"6\"\n",
    "  },\n",
    "  \"sentences\": [\n",
    "    {\n",
    "      \"sentence_id\": 0,\n",
    "      \"sentence\": \"当連結会計年度におけるわが国経済は、政府の経済政策や日銀の金融緩和策により、企業業績、雇用・所得環境は改善し、景気も緩やかな回復基調のうちに推移いたしましたが、中国をはじめとするアジア新興国経済の減速懸念や、英国の欧州連合（ＥＵ）離脱決定、米国新政権への移行など、引き続き先行きは不透明な状況となっております\",\n",
    "      \"opinions\": [\n",
    "        {\n",
    "          \"target\": \"わが国経済\",\n",
    "          \"category\": \"NULL#general\",\n",
    "          \"polarity\": \"neutral\",\n",
    "          \"from\": 11,\n",
    "          \"to\": 16\n",
    "          #从第11个字符到第16\n",
    "        },\n",
    "        {\n",
    "          \"target\": \"企業業績\",\n",
    "          \"category\": \"NULL#general\",\n",
    "          \"polarity\": \"positive\",\n",
    "          \"from\": 38,\n",
    "          \"to\": 42\n",
    "        },\n",
    "        {\n",
    "          \"target\": \"雇用\",\n",
    "          \"category\": \"NULL#general\",\n",
    "          \"polarity\": \"positive\",\n",
    "          \"from\": 43,\n",
    "          \"to\": 45\n",
    "        },\n",
    "        {\n",
    "          \"target\": \"所得環境\",\n",
    "          \"category\": \"NULL#general\",\n",
    "          \"polarity\": \"positive\",\n",
    "          \"from\": 46,\n",
    "          \"to\": 50\n",
    "        },\n",
    "        {\n",
    "          \"target\": \"景気\",\n",
    "          \"category\": \"NULL#general\",\n",
    "          \"polarity\": \"positive\",\n",
    "          \"from\": 55,\n",
    "          \"to\": 57\n",
    "        }\n",
    "      ]\n",
    "    },"
   ]
  },
  {
   "cell_type": "code",
   "execution_count": 17,
   "metadata": {},
   "outputs": [
    {
     "data": {
      "text/html": [
       "<div>\n",
       "<style scoped>\n",
       "    .dataframe tbody tr th:only-of-type {\n",
       "        vertical-align: middle;\n",
       "    }\n",
       "\n",
       "    .dataframe tbody tr th {\n",
       "        vertical-align: top;\n",
       "    }\n",
       "\n",
       "    .dataframe thead th {\n",
       "        text-align: right;\n",
       "    }\n",
       "</style>\n",
       "<table border=\"1\" class=\"dataframe\">\n",
       "  <thead>\n",
       "    <tr style=\"text-align: right;\">\n",
       "      <th></th>\n",
       "      <th>document_id</th>\n",
       "      <th>document_name</th>\n",
       "      <th>doc_text</th>\n",
       "      <th>edi_id</th>\n",
       "      <th>security_code</th>\n",
       "      <th>category33</th>\n",
       "      <th>category17</th>\n",
       "      <th>scale</th>\n",
       "    </tr>\n",
       "  </thead>\n",
       "  <tbody>\n",
       "    <tr>\n",
       "      <th>0</th>\n",
       "      <td>E01183</td>\n",
       "      <td>株式会社松風</td>\n",
       "      <td>有価証券報告書</td>\n",
       "      <td>E01183</td>\n",
       "      <td>79790</td>\n",
       "      <td>精密機器</td>\n",
       "      <td>電機・精密</td>\n",
       "      <td>7</td>\n",
       "    </tr>\n",
       "    <tr>\n",
       "      <th>1</th>\n",
       "      <td>E02682</td>\n",
       "      <td>カメイ株式会社</td>\n",
       "      <td>有価証券報告書</td>\n",
       "      <td>E02682</td>\n",
       "      <td>80370</td>\n",
       "      <td>卸売業</td>\n",
       "      <td>商社・卸売</td>\n",
       "      <td>7</td>\n",
       "    </tr>\n",
       "    <tr>\n",
       "      <th>2</th>\n",
       "      <td>E01018</td>\n",
       "      <td>株式会社ツムラ</td>\n",
       "      <td>有価証券報告書</td>\n",
       "      <td>E01018</td>\n",
       "      <td>45400</td>\n",
       "      <td>医薬品</td>\n",
       "      <td>医薬品</td>\n",
       "      <td>4</td>\n",
       "    </tr>\n",
       "    <tr>\n",
       "      <th>3</th>\n",
       "      <td>E00024</td>\n",
       "      <td>三井金属鉱業株式会社</td>\n",
       "      <td>有価証券報告書</td>\n",
       "      <td>E00024</td>\n",
       "      <td>57060</td>\n",
       "      <td>非鉄金属</td>\n",
       "      <td>鉄鋼・非鉄</td>\n",
       "      <td>4</td>\n",
       "    </tr>\n",
       "    <tr>\n",
       "      <th>4</th>\n",
       "      <td>E23818</td>\n",
       "      <td>チムニー株式会社</td>\n",
       "      <td>有価証券報告書</td>\n",
       "      <td>E23818</td>\n",
       "      <td>31780</td>\n",
       "      <td>小売業</td>\n",
       "      <td>小売</td>\n",
       "      <td>7</td>\n",
       "    </tr>\n",
       "  </tbody>\n",
       "</table>\n",
       "</div>"
      ],
      "text/plain": [
       "  document_id document_name doc_text  edi_id security_code category33  \\\n",
       "0      E01183        株式会社松風  有価証券報告書  E01183         79790       精密機器   \n",
       "1      E02682       カメイ株式会社  有価証券報告書  E02682         80370        卸売業   \n",
       "2      E01018       株式会社ツムラ  有価証券報告書  E01018         45400        医薬品   \n",
       "3      E00024    三井金属鉱業株式会社  有価証券報告書  E00024         57060       非鉄金属   \n",
       "4      E23818      チムニー株式会社  有価証券報告書  E23818         31780        小売業   \n",
       "\n",
       "  category17 scale  \n",
       "0      電機・精密     7  \n",
       "1      商社・卸売     7  \n",
       "2        医薬品     4  \n",
       "3      鉄鋼・非鉄     4  \n",
       "4         小売     7  "
      ]
     },
     "execution_count": 17,
     "metadata": {},
     "output_type": "execute_result"
    }
   ],
   "source": [
    "companies.head(5)"
   ]
  },
  {
   "cell_type": "code",
   "execution_count": 18,
   "metadata": {},
   "outputs": [
    {
     "data": {
      "text/html": [
       "<div>\n",
       "<style scoped>\n",
       "    .dataframe tbody tr th:only-of-type {\n",
       "        vertical-align: middle;\n",
       "    }\n",
       "\n",
       "    .dataframe tbody tr th {\n",
       "        vertical-align: top;\n",
       "    }\n",
       "\n",
       "    .dataframe thead th {\n",
       "        text-align: right;\n",
       "    }\n",
       "</style>\n",
       "<table border=\"1\" class=\"dataframe\">\n",
       "  <thead>\n",
       "    <tr style=\"text-align: right;\">\n",
       "      <th></th>\n",
       "      <th>company</th>\n",
       "      <th>sentence</th>\n",
       "      <th>entities</th>\n",
       "    </tr>\n",
       "  </thead>\n",
       "  <tbody>\n",
       "    <tr>\n",
       "      <th>0</th>\n",
       "      <td>79790</td>\n",
       "      <td>当連結会計年度の世界経済は、米国を中心に景気は概ね堅調に推移しましたが、英国のEU離脱問題に...</td>\n",
       "      <td>2</td>\n",
       "    </tr>\n",
       "    <tr>\n",
       "      <th>1</th>\n",
       "      <td>79790</td>\n",
       "      <td>国内経済については、企業収益や雇用・所得環境に底堅さが見られるなど、総じて緩やかな回復基調を...</td>\n",
       "      <td>4</td>\n",
       "    </tr>\n",
       "    <tr>\n",
       "      <th>2</th>\n",
       "      <td>79790</td>\n",
       "      <td>当歯科業界におきましては、デジタル化の進展により市場環境は大きく変化しており、世界規模で企業...</td>\n",
       "      <td>2</td>\n",
       "    </tr>\n",
       "    <tr>\n",
       "      <th>3</th>\n",
       "      <td>79790</td>\n",
       "      <td>このような状況の中、当社グループは第二次中期経営計画の２年目を迎え、海外事業の拡大と国内事業...</td>\n",
       "      <td>0</td>\n",
       "    </tr>\n",
       "    <tr>\n",
       "      <th>4</th>\n",
       "      <td>79790</td>\n",
       "      <td>海外市場において売上拡大を図るため、ブラジル・サンパウロに販売子会社を設立するとともに、イン...</td>\n",
       "      <td>0</td>\n",
       "    </tr>\n",
       "  </tbody>\n",
       "</table>\n",
       "</div>"
      ],
      "text/plain": [
       "  company                                           sentence  entities\n",
       "0   79790  当連結会計年度の世界経済は、米国を中心に景気は概ね堅調に推移しましたが、英国のEU離脱問題に...         2\n",
       "1   79790  国内経済については、企業収益や雇用・所得環境に底堅さが見られるなど、総じて緩やかな回復基調を...         4\n",
       "2   79790  当歯科業界におきましては、デジタル化の進展により市場環境は大きく変化しており、世界規模で企業...         2\n",
       "3   79790  このような状況の中、当社グループは第二次中期経営計画の２年目を迎え、海外事業の拡大と国内事業...         0\n",
       "4   79790  海外市場において売上拡大を図るため、ブラジル・サンパウロに販売子会社を設立するとともに、イン...         0"
      ]
     },
     "execution_count": 18,
     "metadata": {},
     "output_type": "execute_result"
    }
   ],
   "source": [
    "sentences.head(5)"
   ]
  },
  {
   "cell_type": "code",
   "execution_count": 15,
   "metadata": {},
   "outputs": [
    {
     "data": {
      "text/html": [
       "<div>\n",
       "<style scoped>\n",
       "    .dataframe tbody tr th:only-of-type {\n",
       "        vertical-align: middle;\n",
       "    }\n",
       "\n",
       "    .dataframe tbody tr th {\n",
       "        vertical-align: top;\n",
       "    }\n",
       "\n",
       "    .dataframe thead th {\n",
       "        text-align: right;\n",
       "    }\n",
       "</style>\n",
       "<table border=\"1\" class=\"dataframe\">\n",
       "  <thead>\n",
       "    <tr style=\"text-align: right;\">\n",
       "      <th></th>\n",
       "      <th>target</th>\n",
       "      <th>category</th>\n",
       "      <th>polarity</th>\n",
       "      <th>from</th>\n",
       "      <th>to</th>\n",
       "    </tr>\n",
       "  </thead>\n",
       "  <tbody>\n",
       "    <tr>\n",
       "      <th>0</th>\n",
       "      <td>景気</td>\n",
       "      <td>NULL#general</td>\n",
       "      <td>positive</td>\n",
       "      <td>20</td>\n",
       "      <td>22</td>\n",
       "    </tr>\n",
       "    <tr>\n",
       "      <th>1</th>\n",
       "      <td>先行き</td>\n",
       "      <td>NULL#general</td>\n",
       "      <td>neutral</td>\n",
       "      <td>95</td>\n",
       "      <td>98</td>\n",
       "    </tr>\n",
       "    <tr>\n",
       "      <th>2</th>\n",
       "      <td>国内経済</td>\n",
       "      <td>NULL#general</td>\n",
       "      <td>positive</td>\n",
       "      <td>0</td>\n",
       "      <td>4</td>\n",
       "    </tr>\n",
       "    <tr>\n",
       "      <th>3</th>\n",
       "      <td>企業収益</td>\n",
       "      <td>NULL#general</td>\n",
       "      <td>positive</td>\n",
       "      <td>10</td>\n",
       "      <td>14</td>\n",
       "    </tr>\n",
       "    <tr>\n",
       "      <th>4</th>\n",
       "      <td>雇用</td>\n",
       "      <td>NULL#general</td>\n",
       "      <td>positive</td>\n",
       "      <td>15</td>\n",
       "      <td>17</td>\n",
       "    </tr>\n",
       "  </tbody>\n",
       "</table>\n",
       "</div>"
      ],
      "text/plain": [
       "  target      category  polarity  from  to\n",
       "0     景気  NULL#general  positive    20  22\n",
       "1    先行き  NULL#general   neutral    95  98\n",
       "2   国内経済  NULL#general  positive     0   4\n",
       "3   企業収益  NULL#general  positive    10  14\n",
       "4     雇用  NULL#general  positive    15  17"
      ]
     },
     "execution_count": 15,
     "metadata": {},
     "output_type": "execute_result"
    }
   ],
   "source": [
    "entities.head(5)"
   ]
  },
  {
   "cell_type": "markdown",
   "metadata": {},
   "source": [
    "3. Create the sentiment file"
   ]
  },
  {
   "cell_type": "code",
   "execution_count": 4,
   "metadata": {},
   "outputs": [
    {
     "name": "stdout",
     "output_type": "stream",
     "text": [
      "The number of files＝ 234\n",
      "The name of all the files [PosixPath('/Users/chenying/Desktop/STUDY/project/stage2/chABSA/e01183_ann.json'), PosixPath('/Users/chenying/Desktop/STUDY/project/stage2/chABSA/e02682_ann.json'), PosixPath('/Users/chenying/Desktop/STUDY/project/stage2/chABSA/e01018_ann.json'), PosixPath('/Users/chenying/Desktop/STUDY/project/stage2/chABSA/e00024_ann.json'), PosixPath('/Users/chenying/Desktop/STUDY/project/stage2/chABSA/e23818_ann.json')]\n"
     ]
    }
   ],
   "source": [
    "data_dir = \"/Users/chenying/Desktop/STUDY/project/stage2/chABSA\"\n",
    "data_path = Path(data_dir)\n",
    "path_list = [p for p in data_path.iterdir()]\n",
    "print(\"The number of files＝\",len(path_list))\n",
    "print(\"The name of all the files\",path_list[:5])"
   ]
  },
  {
   "cell_type": "code",
   "execution_count": 6,
   "metadata": {},
   "outputs": [
    {
     "name": "stdout",
     "output_type": "stream",
     "text": [
      "the number of sentences in line_1： 41\n"
     ]
    }
   ],
   "source": [
    "with open(path_list[231], \"br\") as f:\n",
    "    j =  json.load(f)\n",
    "sentences = j[\"sentences\"]  # Save the \"sentences\" \n",
    "print(\"the number of sentences in line_1：\",len(sentences))"
   ]
  },
  {
   "cell_type": "code",
   "execution_count": 7,
   "metadata": {},
   "outputs": [
    {
     "data": {
      "text/plain": [
       "{'sentence_id': 0,\n",
       " 'sentence': '当連結会計年度におけるわが国経済は、政府による経済対策や日本銀行による金融政策を背景とした企業収益の改善と雇用環境の改善により、引き続き緩やかな景気回復傾向や企業業績の改善傾向に変化はないものの、将来不安による消費マインドの低迷などの影響を受け、依然として先行き不透明な状況が続いております',\n",
       " 'opinions': [{'target': 'わが国経済',\n",
       "   'category': 'NULL#general',\n",
       "   'polarity': 'neutral',\n",
       "   'from': 11,\n",
       "   'to': 16},\n",
       "  {'target': '企業収益',\n",
       "   'category': 'NULL#general',\n",
       "   'polarity': 'positive',\n",
       "   'from': 45,\n",
       "   'to': 49},\n",
       "  {'target': '雇用環境',\n",
       "   'category': 'NULL#general',\n",
       "   'polarity': 'positive',\n",
       "   'from': 53,\n",
       "   'to': 57},\n",
       "  {'target': '企業業績',\n",
       "   'category': 'NULL#general',\n",
       "   'polarity': 'positive',\n",
       "   'from': 79,\n",
       "   'to': 83},\n",
       "  {'target': '消費マインド',\n",
       "   'category': 'NULL#general',\n",
       "   'polarity': 'negative',\n",
       "   'from': 105,\n",
       "   'to': 111}]}"
      ]
     },
     "execution_count": 7,
     "metadata": {},
     "output_type": "execute_result"
    }
   ],
   "source": [
    "sentences[0]"
   ]
  },
  {
   "cell_type": "code",
   "execution_count": 8,
   "metadata": {},
   "outputs": [],
   "source": [
    "# pos+1,neg-1\n",
    "#build the rating to save data with [article+score], sentences devided with '\\n'\n",
    "def create_rating(sentences):\n",
    "    rating = []\n",
    "    for obj in sentences:\n",
    "        s = obj[\"sentence\"] \n",
    "        s = s.replace(\"\\n\",\"\")\n",
    "        op = obj[\"opinions\"]  \n",
    "        porarity = 0\n",
    "        for o in op:\n",
    "            p = o[\"polarity\"]\n",
    "            if p == \"positive\":\n",
    "                porarity += 1\n",
    "            elif p == \"negative\":\n",
    "                porarity -= 1\n",
    "        if porarity !=0 :\n",
    "            rating.append((porarity, s))\n",
    "    return rating"
   ]
  },
  {
   "cell_type": "code",
   "execution_count": 20,
   "metadata": {},
   "outputs": [
    {
     "data": {
      "text/plain": [
       "[(1,\n",
       "  '当連結会計年度の世界経済は、米国を中心に景気は概ね堅調に推移しましたが、英国のEU離脱問題による影響のほか、中国をはじめとする新興国経済の減速懸念や米国新政権の政策動向の不確実性など、景気の先行きは不透明な状況が続きました'),\n",
       " (4, '国内経済については、企業収益や雇用・所得環境に底堅さが見られるなど、総じて緩やかな回復基調をたどりました'),\n",
       " (-2,\n",
       "  '当歯科業界におきましては、デジタル化の進展により市場環境は大きく変化しており、世界規模で企業間競争が激化するなど、引き続き厳しい事業環境が続きました'),\n",
       " (-1,\n",
       "  'しかしながら、当連結会計年度の売上高は、為替の円高による影響もあり、22,305百万円と前年同期比670百万円(2.9%)の減収となりました'),\n",
       " (-2,\n",
       "  '営業利益は、減収の影響や積極的な販売活動に伴う費用負担の増加により、1,382百万円と前年同期比186百万円(11.9%)の減益となりました'),\n",
       " (-1,\n",
       "  'これらの新製品に加え、当社の注力分野である化工品やＣＡＤ/ＣＡＭ関連製品が売上に寄与しましたが、市場競争の激化により、人工歯をはじめ既存の主力製品の販売が計画に届かず、前年同期比減収となりました'),\n",
       " (1, '海外では、積極的な拡販戦略が功を奏し、北米や中国で売上が堅調に推移しましたが、為替の円高の影響により、前年同期比減収となりました'),\n",
       " (-2,\n",
       "  'これらの結果、デンタル関連事業の売上高は、20,267百万円と前年同期比732百万円(3.5%)の減収となり、営業利益は1,380百万円と前年同期比134百万円(8.9%)の減益となりました'),\n",
       " (-2,\n",
       "  'ネイル業界におきましては、市場は緩やかな拡大傾向を維持しているものの、ユーザーの低価格志向の高まりを背景に、業界全体で価格競争の様相を呈するなど、事業を取り巻く環境は依然として厳しい状況にあります'),\n",
       " (-2,\n",
       "  '国内では、ジェルネイル製品の新色カラージェルを市場投入するほか、全国各地で製品の優位性を訴求するセミナーを積極展開しましたが、主力製品の「L・E・D GEL Presto」が伸び悩み、売上は低調に推移しました'),\n",
       " (2, '海外では、積極的なプロモーション活動により、米国や台湾においてジェルネイル製品の認知度が高まったことから、売上は好調に推移いたしました'),\n",
       " (-1,\n",
       "  'これらの結果、ネイル関連事業の売上高は、1,944百万円と前年同期比50百万円(2.7%)の増収となりましたが、利益面は、販売費及び一般管理費の増加により、営業損失25百万円と前年同期比47百万円の減益となりました'),\n",
       " (1, 'その他の事業の売上高は、93百万円と前年同期比10百万円(12.8%)の増収となり、営業利益は22百万円とほぼ前年同期並みとなりました')]"
      ]
     },
     "execution_count": 20,
     "metadata": {},
     "output_type": "execute_result"
    }
   ],
   "source": [
    "create_rating(sentences)"
   ]
  },
  {
   "cell_type": "code",
   "execution_count": 23,
   "metadata": {},
   "outputs": [
    {
     "name": "stdout",
     "output_type": "stream",
     "text": [
      "230 files exist.\n"
     ]
    }
   ],
   "source": [
    "\n",
    "# check data existence\n",
    "from pathlib import Path\n",
    "\n",
    "data_folder = Path.cwd().parent.joinpath(\"/Users/chenying/Desktop/STUDY/project/stage2/chABSA\")\n",
    "\n",
    "def check_data_existence(folder):\n",
    "    file_count = len(list(folder.glob(\"e*_ann.json\")))\n",
    "    if  file_count == 0:\n",
    "        raise Exception(\"Processed Data does not exist.\")\n",
    "    else:\n",
    "        print(\"{} files exist.\".format(file_count))\n",
    "\n",
    "\n",
    "check_data_existence(data_folder)"
   ]
  },
  {
   "cell_type": "code",
   "execution_count": 25,
   "metadata": {},
   "outputs": [],
   "source": [
    "#Calculate the rating\n",
    "\n",
    "import json\n",
    "\n",
    "rating = []\n",
    "for f in data_folder.glob(\"e*_ann.json\"):\n",
    "    with f.open(encoding=\"utf-8\") as j:\n",
    "        d = json.load(j)\n",
    "    s = d[\"sentences\"]\n",
    "    rating += create_rating(s)\n",
    "\n",
    "ratingpd = pd.DataFrame(rating)\n"
   ]
  },
  {
   "cell_type": "code",
   "execution_count": 26,
   "metadata": {},
   "outputs": [
    {
     "data": {
      "text/html": [
       "<div>\n",
       "<style scoped>\n",
       "    .dataframe tbody tr th:only-of-type {\n",
       "        vertical-align: middle;\n",
       "    }\n",
       "\n",
       "    .dataframe tbody tr th {\n",
       "        vertical-align: top;\n",
       "    }\n",
       "\n",
       "    .dataframe thead th {\n",
       "        text-align: right;\n",
       "    }\n",
       "</style>\n",
       "<table border=\"1\" class=\"dataframe\">\n",
       "  <thead>\n",
       "    <tr style=\"text-align: right;\">\n",
       "      <th></th>\n",
       "      <th>0</th>\n",
       "      <th>1</th>\n",
       "    </tr>\n",
       "  </thead>\n",
       "  <tbody>\n",
       "    <tr>\n",
       "      <th>0</th>\n",
       "      <td>1</td>\n",
       "      <td>当連結会計年度の世界経済は、米国を中心に景気は概ね堅調に推移しましたが、英国のEU離脱問題に...</td>\n",
       "    </tr>\n",
       "    <tr>\n",
       "      <th>1</th>\n",
       "      <td>4</td>\n",
       "      <td>国内経済については、企業収益や雇用・所得環境に底堅さが見られるなど、総じて緩やかな回復基調を...</td>\n",
       "    </tr>\n",
       "    <tr>\n",
       "      <th>2</th>\n",
       "      <td>-2</td>\n",
       "      <td>当歯科業界におきましては、デジタル化の進展により市場環境は大きく変化しており、世界規模で企業...</td>\n",
       "    </tr>\n",
       "    <tr>\n",
       "      <th>3</th>\n",
       "      <td>-1</td>\n",
       "      <td>しかしながら、当連結会計年度の売上高は、為替の円高による影響もあり、22,305百万円と前年...</td>\n",
       "    </tr>\n",
       "    <tr>\n",
       "      <th>4</th>\n",
       "      <td>-2</td>\n",
       "      <td>営業利益は、減収の影響や積極的な販売活動に伴う費用負担の増加により、1,382百万円と前年同...</td>\n",
       "    </tr>\n",
       "  </tbody>\n",
       "</table>\n",
       "</div>"
      ],
      "text/plain": [
       "   0                                                  1\n",
       "0  1  当連結会計年度の世界経済は、米国を中心に景気は概ね堅調に推移しましたが、英国のEU離脱問題に...\n",
       "1  4  国内経済については、企業収益や雇用・所得環境に底堅さが見られるなど、総じて緩やかな回復基調を...\n",
       "2 -2  当歯科業界におきましては、デジタル化の進展により市場環境は大きく変化しており、世界規模で企業...\n",
       "3 -1  しかしながら、当連結会計年度の売上高は、為替の円高による影響もあり、22,305百万円と前年...\n",
       "4 -2  営業利益は、減収の影響や積極的な販売活動に伴う費用負担の増加により、1,382百万円と前年同..."
      ]
     },
     "execution_count": 26,
     "metadata": {},
     "output_type": "execute_result"
    }
   ],
   "source": [
    "ratingpd.head(5)"
   ]
  },
  {
   "cell_type": "code",
   "execution_count": 27,
   "metadata": {},
   "outputs": [],
   "source": [
    "neg = []\n",
    "pos = []\n",
    "for t in rating:\n",
    "    if t[0] > 0: \n",
    "        pos.append(t[1])\n",
    "    else:\n",
    "        neg.append(t[1])"
   ]
  },
  {
   "cell_type": "code",
   "execution_count": 28,
   "metadata": {},
   "outputs": [
    {
     "name": "stdout",
     "output_type": "stream",
     "text": [
      "1670\n",
      "1143\n",
      "2813\n"
     ]
    }
   ],
   "source": [
    "#Check\n",
    "print(len(pos))\n",
    "print(len(neg))\n",
    "print(len(pos)+len(neg))"
   ]
  },
  {
   "cell_type": "code",
   "execution_count": 29,
   "metadata": {},
   "outputs": [],
   "source": [
    "# Training70% Test30%\n",
    "# Generate the training file .tsv\n",
    "threshold = 0.7\n",
    "neg_num = len(neg)\n",
    "pos_num = len(pos)\n",
    "poslst = []\n",
    "neglst = []\n",
    "\n",
    "with open(\"/Users/chenying/Desktop/STUDY/project/stage2/chABSA/train.tsv\", \"a\") as f:\n",
    "    index = 0\n",
    "    for text in neg:\n",
    "        if index < neg_num * threshold:  #指针在0.7之前循环\n",
    "            text = text+'\\t'+'0'+'\\t'+'\\n' #一句换一行\n",
    "            neglst.append(text)\n",
    "            f.write(text)\n",
    "#            print(text)\n",
    "            index += 1\n",
    "        else:\n",
    "            break\n",
    "    index = 0\n",
    "    for text in pos:\n",
    "        if index < pos_num * threshold:\n",
    "            text = text+'\\t'+'1'+'\\t'+'\\n'\n",
    "            poslst.append(text)\n",
    "            f.write(text)\n",
    "#           print(text)\n",
    "            index += 1\n",
    "        else:\n",
    "            break\n",
    "# \\t ：表示空4个字符，类似于文档中的缩进功能，相当于按一个Tab键。\n",
    "# \\n ：表示换行，相当于按一个 回车键"
   ]
  },
  {
   "cell_type": "code",
   "execution_count": 30,
   "metadata": {},
   "outputs": [],
   "source": [
    "poslst_training = pd.DataFrame(poslst)\n",
    "neglst_training = pd.DataFrame(neglst)"
   ]
  },
  {
   "cell_type": "code",
   "execution_count": 31,
   "metadata": {},
   "outputs": [
    {
     "data": {
      "text/html": [
       "<div>\n",
       "<style scoped>\n",
       "    .dataframe tbody tr th:only-of-type {\n",
       "        vertical-align: middle;\n",
       "    }\n",
       "\n",
       "    .dataframe tbody tr th {\n",
       "        vertical-align: top;\n",
       "    }\n",
       "\n",
       "    .dataframe thead th {\n",
       "        text-align: right;\n",
       "    }\n",
       "</style>\n",
       "<table border=\"1\" class=\"dataframe\">\n",
       "  <thead>\n",
       "    <tr style=\"text-align: right;\">\n",
       "      <th></th>\n",
       "      <th>0</th>\n",
       "    </tr>\n",
       "  </thead>\n",
       "  <tbody>\n",
       "    <tr>\n",
       "      <th>0</th>\n",
       "      <td>当連結会計年度の世界経済は、米国を中心に景気は概ね堅調に推移しましたが、英国のEU離脱問題に...</td>\n",
       "    </tr>\n",
       "    <tr>\n",
       "      <th>1</th>\n",
       "      <td>国内経済については、企業収益や雇用・所得環境に底堅さが見られるなど、総じて緩やかな回復基調を...</td>\n",
       "    </tr>\n",
       "    <tr>\n",
       "      <th>2</th>\n",
       "      <td>海外では、積極的な拡販戦略が功を奏し、北米や中国で売上が堅調に推移しましたが、為替の円高の影...</td>\n",
       "    </tr>\n",
       "    <tr>\n",
       "      <th>3</th>\n",
       "      <td>海外では、積極的なプロモーション活動により、米国や台湾においてジェルネイル製品の認知度が高ま...</td>\n",
       "    </tr>\n",
       "    <tr>\n",
       "      <th>4</th>\n",
       "      <td>その他の事業の売上高は、93百万円と前年同期比10百万円(12.8%)の増収となり、営業利益...</td>\n",
       "    </tr>\n",
       "  </tbody>\n",
       "</table>\n",
       "</div>"
      ],
      "text/plain": [
       "                                                   0\n",
       "0  当連結会計年度の世界経済は、米国を中心に景気は概ね堅調に推移しましたが、英国のEU離脱問題に...\n",
       "1  国内経済については、企業収益や雇用・所得環境に底堅さが見られるなど、総じて緩やかな回復基調を...\n",
       "2  海外では、積極的な拡販戦略が功を奏し、北米や中国で売上が堅調に推移しましたが、為替の円高の影...\n",
       "3  海外では、積極的なプロモーション活動により、米国や台湾においてジェルネイル製品の認知度が高ま...\n",
       "4  その他の事業の売上高は、93百万円と前年同期比10百万円(12.8%)の増収となり、営業利益..."
      ]
     },
     "execution_count": 31,
     "metadata": {},
     "output_type": "execute_result"
    }
   ],
   "source": [
    "poslst_training.head(5)"
   ]
  },
  {
   "cell_type": "code",
   "execution_count": 32,
   "metadata": {},
   "outputs": [
    {
     "data": {
      "text/html": [
       "<div>\n",
       "<style scoped>\n",
       "    .dataframe tbody tr th:only-of-type {\n",
       "        vertical-align: middle;\n",
       "    }\n",
       "\n",
       "    .dataframe tbody tr th {\n",
       "        vertical-align: top;\n",
       "    }\n",
       "\n",
       "    .dataframe thead th {\n",
       "        text-align: right;\n",
       "    }\n",
       "</style>\n",
       "<table border=\"1\" class=\"dataframe\">\n",
       "  <thead>\n",
       "    <tr style=\"text-align: right;\">\n",
       "      <th></th>\n",
       "      <th>0</th>\n",
       "    </tr>\n",
       "  </thead>\n",
       "  <tbody>\n",
       "    <tr>\n",
       "      <th>0</th>\n",
       "      <td>当歯科業界におきましては、デジタル化の進展により市場環境は大きく変化しており、世界規模で企業...</td>\n",
       "    </tr>\n",
       "    <tr>\n",
       "      <th>1</th>\n",
       "      <td>しかしながら、当連結会計年度の売上高は、為替の円高による影響もあり、22,305百万円と前年...</td>\n",
       "    </tr>\n",
       "    <tr>\n",
       "      <th>2</th>\n",
       "      <td>営業利益は、減収の影響や積極的な販売活動に伴う費用負担の増加により、1,382百万円と前年同...</td>\n",
       "    </tr>\n",
       "    <tr>\n",
       "      <th>3</th>\n",
       "      <td>これらの新製品に加え、当社の注力分野である化工品やＣＡＤ/ＣＡＭ関連製品が売上に寄与しました...</td>\n",
       "    </tr>\n",
       "    <tr>\n",
       "      <th>4</th>\n",
       "      <td>これらの結果、デンタル関連事業の売上高は、20,267百万円と前年同期比732百万円(3.5...</td>\n",
       "    </tr>\n",
       "  </tbody>\n",
       "</table>\n",
       "</div>"
      ],
      "text/plain": [
       "                                                   0\n",
       "0  当歯科業界におきましては、デジタル化の進展により市場環境は大きく変化しており、世界規模で企業...\n",
       "1  しかしながら、当連結会計年度の売上高は、為替の円高による影響もあり、22,305百万円と前年...\n",
       "2  営業利益は、減収の影響や積極的な販売活動に伴う費用負担の増加により、1,382百万円と前年同...\n",
       "3  これらの新製品に加え、当社の注力分野である化工品やＣＡＤ/ＣＡＭ関連製品が売上に寄与しました...\n",
       "4  これらの結果、デンタル関連事業の売上高は、20,267百万円と前年同期比732百万円(3.5..."
      ]
     },
     "execution_count": 32,
     "metadata": {},
     "output_type": "execute_result"
    }
   ],
   "source": [
    "neglst_training.head(5)"
   ]
  },
  {
   "cell_type": "code",
   "execution_count": 103,
   "metadata": {},
   "outputs": [],
   "source": [
    "#Generate the testing file .tsv\n",
    "\n",
    "threshold = 0.7\n",
    "neg_num = len(neg)\n",
    "pos_num = len(pos)\n",
    "poslst = []\n",
    "neglst = []\n",
    "\n",
    "with open(\"/Users/chenying/Desktop/STUDY/project/stage2/chABSA/test.tsv\", \"a\") as f:\n",
    "    index = 0\n",
    "    for text in neg:\n",
    "        if index >= neg_num * threshold:\n",
    "            text = text+'\\t'+'0'+'\\t'+'\\n'\n",
    "            neglst.append(text)\n",
    "            f.write(text)\n",
    "            index += 1\n",
    "        else:\n",
    "            index += 1\n",
    "    index = 0\n",
    "    for text in pos:\n",
    "        if index >= pos_num * threshold:\n",
    "            text = text+'\\t'+'1'+'\\t'+'\\n'\n",
    "            poslst.append(text)\n",
    "            f.write(text)\n",
    "            index += 1\n",
    "        else:\n",
    "            index += 1"
   ]
  }
 ],
 "metadata": {
  "kernelspec": {
   "display_name": "Python 3",
   "language": "python",
   "name": "python3"
  },
  "language_info": {
   "codemirror_mode": {
    "name": "ipython",
    "version": 3
   },
   "file_extension": ".py",
   "mimetype": "text/x-python",
   "name": "python",
   "nbconvert_exporter": "python",
   "pygments_lexer": "ipython3",
   "version": "3.6.13"
  }
 },
 "nbformat": 4,
 "nbformat_minor": 4
}
