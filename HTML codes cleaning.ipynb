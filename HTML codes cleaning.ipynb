{
 "cells": [
  {
   "cell_type": "markdown",
   "id": "eebb9803",
   "metadata": {},
   "source": [
    "从网上爬下来的数据常常包含很多HTML乱码。\n",
    "使用以下代码可以很快清除。"
   ]
  },
  {
   "cell_type": "code",
   "execution_count": null,
   "id": "a2d0c601",
   "metadata": {},
   "outputs": [],
   "source": [
    "def cleanhtml(raw_html):\n",
    "    cleanr = re.compile('<.*?>|&.{4};')\n",
    "    cleantext = re.sub(cleanr, '', str(raw_html))\n",
    "#     replacing the special characters\n",
    "#     cleanr = re.compile ('\\\\n')\n",
    "#     cleantext = re.sub(cleanr, ' ', cleantext)\n",
    "    clean = re.sub('\\s+',' ',cleantext)\n",
    "    return html.unescape(clean) # replaces the special characters\n",
    "\n",
    "\n",
    "#same using beautifulsoup\n",
    "def remove_html_escape(html):\n",
    "    return BeautifulSoup(str(html), \"lxml\").text"
   ]
  },
  {
   "cell_type": "code",
   "execution_count": null,
   "id": "7da63424",
   "metadata": {},
   "outputs": [],
   "source": [
    "#文本清洗\n",
    "import pandas as pd\n",
    "from bs4 import BeautifulSoup\n",
    "import re\n",
    "import html\n",
    "\n",
    "clean_text = []\n",
    "for index,row in df_text.iterrows():\n",
    "    if isinstance(row['text'],str) == True:\n",
    "        text = row[41]\n",
    "        text = cleanhtml(text)\n",
    "        text = remove_html_escape(text)\n",
    "        #print(text)\n",
    "        row['text'] = text\n",
    "        \n",
    "print(df_text)"
   ]
  }
 ],
 "metadata": {
  "kernelspec": {
   "display_name": "Python 3 (ipykernel)",
   "language": "python",
   "name": "python3"
  },
  "language_info": {
   "codemirror_mode": {
    "name": "ipython",
    "version": 3
   },
   "file_extension": ".py",
   "mimetype": "text/x-python",
   "name": "python",
   "nbconvert_exporter": "python",
   "pygments_lexer": "ipython3",
   "version": "3.9.12"
  }
 },
 "nbformat": 4,
 "nbformat_minor": 5
}
